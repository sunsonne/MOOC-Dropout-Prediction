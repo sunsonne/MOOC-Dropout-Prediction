{
 "cells": [
  {
   "cell_type": "code",
   "execution_count": 1,
   "metadata": {
    "collapsed": true
   },
   "outputs": [],
   "source": [
    "import pandas as pd\n",
    "import numpy as np\n",
    "import matplotlib.pyplot as plt\n",
    "%matplotlib inline"
   ]
  },
  {
   "cell_type": "markdown",
   "metadata": {},
   "source": [
    "# Import data and quick look"
   ]
  },
  {
   "cell_type": "code",
   "execution_count": 2,
   "metadata": {
    "collapsed": false
   },
   "outputs": [],
   "source": [
    "# read raw data into dataframe\n",
    "\n",
    "df_train_scale = pd.read_csv('round2_train_data.csv')\n",
    "df_test_scale = pd.read_csv('round2_test_data.csv')\n",
    "\n",
    "df_train_no = pd.read_csv('round2_train_no_scale.csv')\n",
    "df_test_no = pd.read_csv('round2_test_no_scale.csv')"
   ]
  },
  {
   "cell_type": "code",
   "execution_count": 10,
   "metadata": {
    "collapsed": false
   },
   "outputs": [
    {
     "data": {
      "text/plain": [
       "<matplotlib.text.Text at 0x119518110>"
      ]
     },
     "execution_count": 10,
     "metadata": {},
     "output_type": "execute_result"
    },
    {
     "data": {
      "image/png": "[encoded data removed]",
      "text/plain": [
       "<matplotlib.figure.Figure at 0x11997cf50>"
      ]
     },
     "metadata": {},
     "output_type": "display_data"
    }
   ],
   "source": [
    "df_train_no['course'].value_counts().plot(kind = 'bar')\n",
    "plt.xlabel('Mapped Course Name')\n",
    "plt.ylabel('Number of Enrollment_id')"
   ]
  },
  {
   "cell_type": "code",
   "execution_count": 4,
   "metadata": {
    "collapsed": false
   },
   "outputs": [
    {
     "data": {
      "text/plain": [
       "<matplotlib.text.Text at 0x117899e90>"
      ]
     },
     "execution_count": 4,
     "metadata": {},
     "output_type": "execute_result"
    },
    {
     "data": {
      "image/png": "[encoded data removed]",
      "text/plain": [
       "<matplotlib.figure.Figure at 0x1185b4f10>"
      ]
     },
     "metadata": {},
     "output_type": "display_data"
    }
   ],
   "source": [
    "df_train_no['number of days'].value_counts().plot(kind = 'bar')\n",
    "plt.xlabel('days of studying')\n",
    "plt.ylabel('number of enrollment_id')"
   ]
  },
  {
   "cell_type": "code",
   "execution_count": 5,
   "metadata": {
    "collapsed": false
   },
   "outputs": [
    {
     "data": {
      "text/html": [
       "<div>\n",
       "<table border=\"1\" class=\"dataframe\">\n",
       "  <thead>\n",
       "    <tr style=\"text-align: right;\">\n",
       "      <th></th>\n",
       "      <th>number of days</th>\n",
       "      <th>working time interval</th>\n",
       "      <th>access</th>\n",
       "      <th>discussion</th>\n",
       "      <th>navigate</th>\n",
       "      <th>page_close</th>\n",
       "      <th>problem</th>\n",
       "      <th>video</th>\n",
       "      <th>wiki</th>\n",
       "      <th>AA</th>\n",
       "      <th>...</th>\n",
       "      <th>GG</th>\n",
       "      <th>A</th>\n",
       "      <th>B</th>\n",
       "      <th>C</th>\n",
       "      <th>D</th>\n",
       "      <th>E</th>\n",
       "      <th>F</th>\n",
       "      <th>G</th>\n",
       "      <th>course</th>\n",
       "      <th>target</th>\n",
       "    </tr>\n",
       "  </thead>\n",
       "  <tbody>\n",
       "    <tr>\n",
       "      <th>0</th>\n",
       "      <td>1</td>\n",
       "      <td>143.000000</td>\n",
       "      <td>7</td>\n",
       "      <td>6</td>\n",
       "      <td>6</td>\n",
       "      <td>4</td>\n",
       "      <td>0</td>\n",
       "      <td>2</td>\n",
       "      <td>2</td>\n",
       "      <td>21</td>\n",
       "      <td>...</td>\n",
       "      <td>1</td>\n",
       "      <td>18.0</td>\n",
       "      <td>73.0</td>\n",
       "      <td>23.0</td>\n",
       "      <td>26.0</td>\n",
       "      <td>0.0</td>\n",
       "      <td>1.0</td>\n",
       "      <td>2.0</td>\n",
       "      <td>C6</td>\n",
       "      <td>1.0</td>\n",
       "    </tr>\n",
       "    <tr>\n",
       "      <th>1</th>\n",
       "      <td>1</td>\n",
       "      <td>2250.000000</td>\n",
       "      <td>25</td>\n",
       "      <td>0</td>\n",
       "      <td>3</td>\n",
       "      <td>8</td>\n",
       "      <td>16</td>\n",
       "      <td>20</td>\n",
       "      <td>0</td>\n",
       "      <td>300</td>\n",
       "      <td>...</td>\n",
       "      <td>0</td>\n",
       "      <td>24.0</td>\n",
       "      <td>0.0</td>\n",
       "      <td>87.0</td>\n",
       "      <td>173.0</td>\n",
       "      <td>117.0</td>\n",
       "      <td>1849.0</td>\n",
       "      <td>0.0</td>\n",
       "      <td>C19</td>\n",
       "      <td>1.0</td>\n",
       "    </tr>\n",
       "    <tr>\n",
       "      <th>2</th>\n",
       "      <td>3</td>\n",
       "      <td>2569.333333</td>\n",
       "      <td>33</td>\n",
       "      <td>3</td>\n",
       "      <td>10</td>\n",
       "      <td>10</td>\n",
       "      <td>0</td>\n",
       "      <td>11</td>\n",
       "      <td>1</td>\n",
       "      <td>202</td>\n",
       "      <td>...</td>\n",
       "      <td>0</td>\n",
       "      <td>256.0</td>\n",
       "      <td>28.0</td>\n",
       "      <td>3282.0</td>\n",
       "      <td>3115.0</td>\n",
       "      <td>0.0</td>\n",
       "      <td>1023.0</td>\n",
       "      <td>4.0</td>\n",
       "      <td>C20</td>\n",
       "      <td>1.0</td>\n",
       "    </tr>\n",
       "    <tr>\n",
       "      <th>3</th>\n",
       "      <td>1</td>\n",
       "      <td>98.000000</td>\n",
       "      <td>2</td>\n",
       "      <td>0</td>\n",
       "      <td>2</td>\n",
       "      <td>1</td>\n",
       "      <td>0</td>\n",
       "      <td>0</td>\n",
       "      <td>0</td>\n",
       "      <td>1</td>\n",
       "      <td>...</td>\n",
       "      <td>0</td>\n",
       "      <td>39.0</td>\n",
       "      <td>0.0</td>\n",
       "      <td>59.0</td>\n",
       "      <td>0.0</td>\n",
       "      <td>0.0</td>\n",
       "      <td>0.0</td>\n",
       "      <td>0.0</td>\n",
       "      <td>C8</td>\n",
       "      <td>1.0</td>\n",
       "    </tr>\n",
       "    <tr>\n",
       "      <th>4</th>\n",
       "      <td>1</td>\n",
       "      <td>530.000000</td>\n",
       "      <td>3</td>\n",
       "      <td>0</td>\n",
       "      <td>2</td>\n",
       "      <td>1</td>\n",
       "      <td>0</td>\n",
       "      <td>1</td>\n",
       "      <td>0</td>\n",
       "      <td>3</td>\n",
       "      <td>...</td>\n",
       "      <td>0</td>\n",
       "      <td>360.0</td>\n",
       "      <td>0.0</td>\n",
       "      <td>170.0</td>\n",
       "      <td>0.0</td>\n",
       "      <td>0.0</td>\n",
       "      <td>0.0</td>\n",
       "      <td>0.0</td>\n",
       "      <td>C11</td>\n",
       "      <td>1.0</td>\n",
       "    </tr>\n",
       "  </tbody>\n",
       "</table>\n",
       "<p>5 rows × 67 columns</p>\n",
       "</div>"
      ],
      "text/plain": [
       "   number of days  working time interval  access  discussion  navigate  \\\n",
       "0               1             143.000000       7           6         6   \n",
       "1               1            2250.000000      25           0         3   \n",
       "2               3            2569.333333      33           3        10   \n",
       "3               1              98.000000       2           0         2   \n",
       "4               1             530.000000       3           0         2   \n",
       "\n",
       "   page_close  problem  video  wiki   AA   ...    GG      A     B       C  \\\n",
       "0           4        0      2     2   21   ...     1   18.0  73.0    23.0   \n",
       "1           8       16     20     0  300   ...     0   24.0   0.0    87.0   \n",
       "2          10        0     11     1  202   ...     0  256.0  28.0  3282.0   \n",
       "3           1        0      0     0    1   ...     0   39.0   0.0    59.0   \n",
       "4           1        0      1     0    3   ...     0  360.0   0.0   170.0   \n",
       "\n",
       "        D      E       F    G  course  target  \n",
       "0    26.0    0.0     1.0  2.0      C6     1.0  \n",
       "1   173.0  117.0  1849.0  0.0     C19     1.0  \n",
       "2  3115.0    0.0  1023.0  4.0     C20     1.0  \n",
       "3     0.0    0.0     0.0  0.0      C8     1.0  \n",
       "4     0.0    0.0     0.0  0.0     C11     1.0  \n",
       "\n",
       "[5 rows x 67 columns]"
      ]
     },
     "execution_count": 5,
     "metadata": {},
     "output_type": "execute_result"
    }
   ],
   "source": [
    "df_train_no.head()"
   ]
  },
  {
   "cell_type": "markdown",
   "metadata": {},
   "source": [
    "#  Cluster\n",
    "### check if clustering is helpful to detect outliers"
   ]
  },
  {
   "cell_type": "code",
   "execution_count": 28,
   "metadata": {
    "collapsed": false
   },
   "outputs": [],
   "source": [
    "# take course C39 as an example to cluster such that outlier within this cluster is labeled\n",
    "df_C39 = df_train_no[df_train_no['course'] == 'C39'].drop(labels = ['course', 'target'], axis = 1)"
   ]
  },
  {
   "cell_type": "code",
   "execution_count": 39,
   "metadata": {
    "collapsed": true
   },
   "outputs": [],
   "source": [
    "# DBSCAN on this course\n",
    "\n",
    "from sklearn.cluster import DBSCAN\n",
    "from sklearn.preprocessing import StandardScaler\n",
    "\n",
    "df_C39_scale = StandardScaler().fit_transform(df_C39)\n",
    "db = DBSCAN(eps = 1, min_samples = 10).fit(df_C39_scale)\n",
    "core_sample_mask = np.zeros_like(db.labels_, dtype = bool)\n",
    "core_sample_mask[db.core_sample_indices_] = True\n",
    "labels = db.labels_\n",
    "\n",
    "n_clusters_ = len(set(labels)) - (1 if -1 in labels else 0)\n"
   ]
  },
  {
   "cell_type": "code",
   "execution_count": 40,
   "metadata": {
    "collapsed": false
   },
   "outputs": [
    {
     "name": "stdout",
     "output_type": "stream",
     "text": [
      "2872\n"
     ]
    }
   ],
   "source": [
    "# check the outlier points' behavior\n",
    "\n",
    "count = 0\n",
    "for value in labels:\n",
    "    if value == -1:\n",
    "        count += 1\n",
    "    else:\n",
    "        pass\n",
    "print count"
   ]
  },
  {
   "cell_type": "code",
   "execution_count": 48,
   "metadata": {
    "collapsed": false
   },
   "outputs": [
    {
     "name": "stderr",
     "output_type": "stream",
     "text": [
      "/Users/chengqiaowang/anaconda/lib/python2.7/site-packages/ipykernel/__main__.py:4: SettingWithCopyWarning: \n",
      "A value is trying to be set on a copy of a slice from a DataFrame.\n",
      "Try using .loc[row_indexer,col_indexer] = value instead\n",
      "\n",
      "See the caveats in the documentation: http://pandas.pydata.org/pandas-docs/stable/indexing.html#indexing-view-versus-copy\n"
     ]
    },
    {
     "data": {
      "text/html": [
       "<div>\n",
       "<table border=\"1\" class=\"dataframe\">\n",
       "  <thead>\n",
       "    <tr style=\"text-align: right;\">\n",
       "      <th></th>\n",
       "      <th>number of days</th>\n",
       "      <th>working time interval</th>\n",
       "      <th>access</th>\n",
       "      <th>discussion</th>\n",
       "      <th>navigate</th>\n",
       "      <th>page_close</th>\n",
       "      <th>problem</th>\n",
       "      <th>video</th>\n",
       "      <th>wiki</th>\n",
       "      <th>AA</th>\n",
       "      <th>...</th>\n",
       "      <th>A</th>\n",
       "      <th>B</th>\n",
       "      <th>C</th>\n",
       "      <th>D</th>\n",
       "      <th>E</th>\n",
       "      <th>F</th>\n",
       "      <th>G</th>\n",
       "      <th>course</th>\n",
       "      <th>target</th>\n",
       "      <th>cluster</th>\n",
       "    </tr>\n",
       "  </thead>\n",
       "  <tbody>\n",
       "    <tr>\n",
       "      <th>15</th>\n",
       "      <td>1</td>\n",
       "      <td>6339.0</td>\n",
       "      <td>19</td>\n",
       "      <td>15</td>\n",
       "      <td>15</td>\n",
       "      <td>9</td>\n",
       "      <td>2</td>\n",
       "      <td>4</td>\n",
       "      <td>4</td>\n",
       "      <td>171</td>\n",
       "      <td>...</td>\n",
       "      <td>1094.0</td>\n",
       "      <td>664.0</td>\n",
       "      <td>506.0</td>\n",
       "      <td>4010.0</td>\n",
       "      <td>39.0</td>\n",
       "      <td>4.0</td>\n",
       "      <td>22.0</td>\n",
       "      <td>C39</td>\n",
       "      <td>1.0</td>\n",
       "      <td>-1</td>\n",
       "    </tr>\n",
       "    <tr>\n",
       "      <th>27</th>\n",
       "      <td>2</td>\n",
       "      <td>956.0</td>\n",
       "      <td>5</td>\n",
       "      <td>0</td>\n",
       "      <td>1</td>\n",
       "      <td>4</td>\n",
       "      <td>5</td>\n",
       "      <td>3</td>\n",
       "      <td>0</td>\n",
       "      <td>10</td>\n",
       "      <td>...</td>\n",
       "      <td>11.0</td>\n",
       "      <td>0.0</td>\n",
       "      <td>0.0</td>\n",
       "      <td>798.0</td>\n",
       "      <td>112.0</td>\n",
       "      <td>991.0</td>\n",
       "      <td>0.0</td>\n",
       "      <td>C39</td>\n",
       "      <td>1.0</td>\n",
       "      <td>0</td>\n",
       "    </tr>\n",
       "    <tr>\n",
       "      <th>38</th>\n",
       "      <td>1</td>\n",
       "      <td>1512.0</td>\n",
       "      <td>3</td>\n",
       "      <td>4</td>\n",
       "      <td>7</td>\n",
       "      <td>1</td>\n",
       "      <td>0</td>\n",
       "      <td>1</td>\n",
       "      <td>2</td>\n",
       "      <td>3</td>\n",
       "      <td>...</td>\n",
       "      <td>1279.0</td>\n",
       "      <td>87.0</td>\n",
       "      <td>53.0</td>\n",
       "      <td>82.0</td>\n",
       "      <td>0.0</td>\n",
       "      <td>0.0</td>\n",
       "      <td>11.0</td>\n",
       "      <td>C39</td>\n",
       "      <td>1.0</td>\n",
       "      <td>0</td>\n",
       "    </tr>\n",
       "    <tr>\n",
       "      <th>44</th>\n",
       "      <td>1</td>\n",
       "      <td>1644.0</td>\n",
       "      <td>9</td>\n",
       "      <td>5</td>\n",
       "      <td>6</td>\n",
       "      <td>1</td>\n",
       "      <td>3</td>\n",
       "      <td>3</td>\n",
       "      <td>1</td>\n",
       "      <td>36</td>\n",
       "      <td>...</td>\n",
       "      <td>607.0</td>\n",
       "      <td>441.0</td>\n",
       "      <td>72.0</td>\n",
       "      <td>34.0</td>\n",
       "      <td>24.0</td>\n",
       "      <td>462.0</td>\n",
       "      <td>4.0</td>\n",
       "      <td>C39</td>\n",
       "      <td>1.0</td>\n",
       "      <td>0</td>\n",
       "    </tr>\n",
       "    <tr>\n",
       "      <th>46</th>\n",
       "      <td>3</td>\n",
       "      <td>3723.0</td>\n",
       "      <td>8</td>\n",
       "      <td>0</td>\n",
       "      <td>5</td>\n",
       "      <td>5</td>\n",
       "      <td>0</td>\n",
       "      <td>3</td>\n",
       "      <td>0</td>\n",
       "      <td>7</td>\n",
       "      <td>...</td>\n",
       "      <td>29.0</td>\n",
       "      <td>0.0</td>\n",
       "      <td>1913.0</td>\n",
       "      <td>9227.0</td>\n",
       "      <td>0.0</td>\n",
       "      <td>0.0</td>\n",
       "      <td>0.0</td>\n",
       "      <td>C39</td>\n",
       "      <td>1.0</td>\n",
       "      <td>0</td>\n",
       "    </tr>\n",
       "  </tbody>\n",
       "</table>\n",
       "<p>5 rows × 68 columns</p>\n",
       "</div>"
      ],
      "text/plain": [
       "    number of days  working time interval  access  discussion  navigate  \\\n",
       "15               1                 6339.0      19          15        15   \n",
       "27               2                  956.0       5           0         1   \n",
       "38               1                 1512.0       3           4         7   \n",
       "44               1                 1644.0       9           5         6   \n",
       "46               3                 3723.0       8           0         5   \n",
       "\n",
       "    page_close  problem  video  wiki   AA   ...          A      B       C  \\\n",
       "15           9        2      4     4  171   ...     1094.0  664.0   506.0   \n",
       "27           4        5      3     0   10   ...       11.0    0.0     0.0   \n",
       "38           1        0      1     2    3   ...     1279.0   87.0    53.0   \n",
       "44           1        3      3     1   36   ...      607.0  441.0    72.0   \n",
       "46           5        0      3     0    7   ...       29.0    0.0  1913.0   \n",
       "\n",
       "         D      E      F     G  course  target  cluster  \n",
       "15  4010.0   39.0    4.0  22.0     C39     1.0       -1  \n",
       "27   798.0  112.0  991.0   0.0     C39     1.0        0  \n",
       "38    82.0    0.0    0.0  11.0     C39     1.0        0  \n",
       "44    34.0   24.0  462.0   4.0     C39     1.0        0  \n",
       "46  9227.0    0.0    0.0   0.0     C39     1.0        0  \n",
       "\n",
       "[5 rows x 68 columns]"
      ]
     },
     "execution_count": 48,
     "metadata": {},
     "output_type": "execute_result"
    }
   ],
   "source": [
    "# add cluster label in dataframe\n",
    "\n",
    "df_C39_cluster = df_train_no[df_train_no['course'] == 'C39']\n",
    "df_C39_cluster['cluster'] = labels\n",
    "\n",
    "df_C39_cluster.head()"
   ]
  },
  {
   "cell_type": "code",
   "execution_count": 56,
   "metadata": {
    "collapsed": false
   },
   "outputs": [
    {
     "data": {
      "text/plain": [
       "<matplotlib.axes._subplots.AxesSubplot at 0x1196fb410>"
      ]
     },
     "execution_count": 56,
     "metadata": {},
     "output_type": "execute_result"
    },
    {
     "data": {
      "image/png": "[encoded data removed]",
      "text/plain": [
       "<matplotlib.figure.Figure at 0x119bce9d0>"
      ]
     },
     "metadata": {},
     "output_type": "display_data"
    }
   ],
   "source": [
    "# check \n",
    "\n",
    "check = df_C39_cluster[df_C39_cluster['cluster'] == -1]\n",
    "check['target'].value_counts().plot(kind = 'bar')"
   ]
  },
  {
   "cell_type": "code",
   "execution_count": 14,
   "metadata": {
    "collapsed": false
   },
   "outputs": [
    {
     "data": {
      "text/plain": [
       "array([<matplotlib.axes._subplots.AxesSubplot object at 0x118e8aa50>,\n",
       "       <matplotlib.axes._subplots.AxesSubplot object at 0x11973fe10>], dtype=object)"
      ]
     },
     "execution_count": 14,
     "metadata": {},
     "output_type": "execute_result"
    },
    {
     "data": {
      "image/png": "[encoded data removed]",
      "text/plain": [
       "<matplotlib.figure.Figure at 0x118e8a750>"
      ]
     },
     "metadata": {},
     "output_type": "display_data"
    }
   ],
   "source": [
    "df_train_no.hist(column='discussion', bins = 50, by = 'target')"
   ]
  },
  {
   "cell_type": "markdown",
   "metadata": {},
   "source": [
    "# Correlation comparison --> whole dataframe vs. course based"
   ]
  },
  {
   "cell_type": "code",
   "execution_count": 15,
   "metadata": {
    "collapsed": true
   },
   "outputs": [],
   "source": [
    "# try add up feature with similar physical meanings\n",
    "\n",
    "df_train_no['test add'] =  df_train_no['AC'] + df_train_no['CA']"
   ]
  },
  {
   "cell_type": "code",
   "execution_count": 16,
   "metadata": {
    "collapsed": true
   },
   "outputs": [],
   "source": [
    "# create correlation dataframe --> convert to ndarray\n",
    "\n",
    "corr_df = df_train_no.corr()\n",
    "corr_C39 = df_train_no[df_train_no['course'] == 'C39'].corr()\n",
    "\n",
    "corr_df_target = pd.DataFrame(corr_df['target'])\n",
    "corr_C39_target = pd.DataFrame(corr_C39['target'])\n",
    "\n",
    "corr_array = np.asarray(corr_df['target'])\n",
    "corr_C39_array = np.asarray(corr_C39['target'])"
   ]
  },
  {
   "cell_type": "code",
   "execution_count": 76,
   "metadata": {
    "collapsed": false
   },
   "outputs": [
    {
     "name": "stdout",
     "output_type": "stream",
     "text": [
      "[-0.56247623 -0.49037976 -0.46688672 -0.46033863 -0.41964373 -0.34003434\n",
      " -0.33700274 -0.33032178 -0.32938813 -0.32785805]\n",
      "[-0.54058042 -0.53070909 -0.52792799 -0.47901468 -0.47640097 -0.39509127\n",
      " -0.37566009 -0.37119842 -0.35442172 -0.33966554]\n"
     ]
    }
   ],
   "source": [
    "# compare two correlations to find the largest one\n",
    "\n",
    "corr_arr_sort = np.sort(corr_array)\n",
    "print corr_arr_sort[:10]\n",
    "#print corr_arr_sort[-5:]\n",
    "\n",
    "corr_C39_arr_sort = np.sort(corr_C39_array)\n",
    "print corr_C39_arr_sort[:10]\n",
    "#print corr_C39_arr_sort[-5:]"
   ]
  },
  {
   "cell_type": "markdown",
   "metadata": {},
   "source": [
    "## Feature Selection"
   ]
  },
  {
   "cell_type": "code",
   "execution_count": 17,
   "metadata": {
    "collapsed": false
   },
   "outputs": [
    {
     "name": "stdout",
     "output_type": "stream",
     "text": [
      "                  target\n",
      "number of days -0.562476\n",
      "access         -0.460339\n",
      "navigate       -0.466887\n",
      "page_close     -0.490380\n",
      "problem        -0.330322\n",
      "video          -0.419644\n",
      "AC             -0.283093\n",
      "CA             -0.302112\n",
      "AD             -0.327858\n",
      "CD             -0.329388\n",
      "CF             -0.291630\n",
      "DD             -0.337003\n",
      "DF             -0.294985\n",
      "FD             -0.302720\n",
      "A              -0.308547\n",
      "D              -0.340034\n",
      "F              -0.281583\n",
      "test add       -0.304052\n"
     ]
    }
   ],
   "source": [
    "# find the best features for modeling\n",
    "\n",
    "feature = corr_df_target.loc[corr_df_target['target'] < -0.28]\n",
    "print feature"
   ]
  },
  {
   "cell_type": "markdown",
   "metadata": {},
   "source": [
    "# Split dataset based on Course"
   ]
  },
  {
   "cell_type": "code",
   "execution_count": 6,
   "metadata": {
    "collapsed": false
   },
   "outputs": [],
   "source": [
    "# select features in advance\n",
    "\n",
    "df_train_no = df_train_no[['number of days', 'access','navigate','page_close', 'video', 'D', 'course', 'target']]\n",
    "df_test_no = df_test_no[['number of days', 'access','navigate','page_close', 'video', 'D', 'course']]"
   ]
  },
  {
   "cell_type": "code",
   "execution_count": 7,
   "metadata": {
    "collapsed": false,
    "scrolled": true
   },
   "outputs": [],
   "source": [
    "# create a for loop to divide dataset, scale for each subset\n",
    "from sklearn.preprocessing import StandardScaler\n",
    "\n",
    "train_data_list = []\n",
    "train_target_list = []\n",
    "pred_data_list = []\n",
    "pred_label_list = []\n",
    "\n",
    "c = 'C'\n",
    "\n",
    "df_test_no['id'] = np.array(xrange(72326, 120543, 1))\n",
    "\n",
    "for i in xrange(1,40):\n",
    "    label = c + str(i)\n",
    "    \n",
    "    # create each training subset\n",
    "    train_subset = df_train_no[df_train_no['course'] == label].drop(labels = ['course','target'], axis = 1)\n",
    "    X_target = df_train_no[df_train_no['course'] == label]\n",
    "    target = X_target['target']\n",
    "    \n",
    "    # create each prediction subset with enrollment_id appended\n",
    "    pred = df_test_no[df_test_no['course'] == label]\n",
    "    pred_subset = pred.drop(labels = ['course','id'], axis = 1)\n",
    "    pred_label = pred['id']\n",
    "    \n",
    "    # transform the data by standard scaler\n",
    "    X = StandardScaler().fit_transform(train_subset)\n",
    "    Y = StandardScaler().fit_transform(pred_subset)\n",
    "    \n",
    "    # store df in list\n",
    "    train_data_list.append(X)\n",
    "    train_target_list.append(target)\n",
    "    \n",
    "    pred_data_list.append(Y)\n",
    "    pred_label_list.append( list(pred_label) )\n"
   ]
  },
  {
   "cell_type": "markdown",
   "metadata": {},
   "source": [
    "# Split dataset for each subset, training and predicting"
   ]
  },
  {
   "cell_type": "code",
   "execution_count": 8,
   "metadata": {
    "collapsed": true
   },
   "outputs": [],
   "source": [
    "from sklearn.model_selection import train_test_split\n",
    "from sklearn.metrics import classification_report,confusion_matrix\n",
    "from sklearn.model_selection import GridSearchCV\n",
    "from sklearn import metrics"
   ]
  },
  {
   "cell_type": "markdown",
   "metadata": {},
   "source": [
    "### Logistic Regression"
   ]
  },
  {
   "cell_type": "code",
   "execution_count": 9,
   "metadata": {
    "collapsed": false
   },
   "outputs": [],
   "source": [
    "# split and train the model\n",
    "\n",
    "from sklearn.linear_model import LogisticRegression\n",
    "\n",
    "lr = LogisticRegression()\n",
    "lr_tuned_parameter = {'penalty': ['l1', 'l2'], 'C': [0.01, 0.05, 0.1, 0.2, 0.3, 0.5]}\n",
    "lr_parameters = []\n",
    "result_list = []\n",
    "\n",
    "for i in range(39):\n",
    "    X_train, X_test, y_train, y_test = train_test_split(train_data_list[i], train_target_list[i], \n",
    "                                                       test_size = 0.30, random_state = 101)\n",
    "    \n",
    "    lr_clf = GridSearchCV(lr, lr_tuned_parameter, scoring = 'neg_log_loss')\n",
    "    lr_clf.fit(X_train, y_train)\n",
    "    lr_parameters.append(lr_clf.best_params_)\n",
    "    \n",
    "    lr_pred = lr_clf.predict_proba(pred_data_list[i])\n",
    "    result_array = zip(list(pred_label_list[i]), list(lr_pred[:,1]))\n",
    "    result_list.append(result_array)\n",
    "    "
   ]
  },
  {
   "cell_type": "code",
   "execution_count": 10,
   "metadata": {
    "collapsed": false
   },
   "outputs": [],
   "source": [
    "# create output dataframe from subset array\n",
    "\n",
    "df_result = pd.DataFrame(columns=['enrollment_id', 'dropout_prob'])\n",
    "\n",
    "for i in xrange(39):\n",
    "    df_result = df_result.append(result_list[i])\n",
    "    \n",
    "df_output = df_result.drop(labels = ['enrollment_id', 'dropout_prob'], axis = 1)\n",
    "df_output.rename(index=str, columns={0: \"enrollment_id\", 1: \"dropout_prob\"}, inplace = True)\n",
    "df_output[['enrollment_id']] = df_output[['enrollment_id']].astype(int)\n",
    "\n",
    "df_output.to_csv('LR_subset_features.csv', index = False)"
   ]
  },
  {
   "cell_type": "markdown",
   "metadata": {},
   "source": [
    "### Neural Network"
   ]
  },
  {
   "cell_type": "code",
   "execution_count": 9,
   "metadata": {
    "collapsed": false
   },
   "outputs": [
    {
     "name": "stderr",
     "output_type": "stream",
     "text": [
      "/Users/chengqiaowang/anaconda/lib/python2.7/site-packages/sklearn/neural_network/multilayer_perceptron.py:563: ConvergenceWarning: Stochastic Optimizer: Maximum iterations reached and the optimization hasn't converged yet.\n",
      "  % (), ConvergenceWarning)\n"
     ]
    }
   ],
   "source": [
    "# split and train the model\n",
    "\n",
    "from sklearn.neural_network import MLPClassifier\n",
    "\n",
    "mlp = MLPClassifier()\n",
    "mlp_tuned_parameter = {'hidden_layer_sizes': [(100,), (150,)], 'alpha': [0.00005, 0.0001, 0.0002]}\n",
    "mlp_parameters = []\n",
    "mlp_result_list = []\n",
    "\n",
    "for i in range(39):\n",
    "    X_train, X_test, y_train, y_test = train_test_split(train_data_list[i], train_target_list[i], \n",
    "                                                       test_size = 0.30, random_state = 101)\n",
    "    \n",
    "    mlp_clf = GridSearchCV(mlp, mlp_tuned_parameter, scoring = 'neg_log_loss')\n",
    "    mlp_clf.fit(X_train, y_train)\n",
    "    mlp_parameters.append(mlp_clf.best_params_)\n",
    "    \n",
    "    mlp_pred = mlp_clf.predict_proba(pred_data_list[i])\n",
    "    result_array = zip(list(pred_label_list[i]), list(mlp_pred[:,1]))\n",
    "    mlp_result_list.append(result_array)\n",
    "    "
   ]
  },
  {
   "cell_type": "code",
   "execution_count": 10,
   "metadata": {
    "collapsed": true
   },
   "outputs": [],
   "source": [
    "# create output dataframe from subset array\n",
    "\n",
    "df_result_mlp = pd.DataFrame(columns=['enrollment_id', 'dropout_prob'])\n",
    "\n",
    "for i in xrange(39):\n",
    "    df_result_mlp = df_result_mlp.append(mlp_result_list[i])\n",
    "    \n",
    "df_mlp = df_result_mlp.drop(labels = ['enrollment_id', 'dropout_prob'], axis = 1)\n",
    "df_mlp.rename(index=str, columns={0: \"enrollment_id\", 1: \"dropout_prob\"}, inplace = True)\n",
    "df_mlp[['enrollment_id']] = df_mlp[['enrollment_id']].astype(int)\n",
    "\n",
    "df_mlp.to_csv('MLP_subset_features.csv', index = False)"
   ]
  },
  {
   "cell_type": "markdown",
   "metadata": {},
   "source": [
    "# Use the whole dataset with previously scaled"
   ]
  },
  {
   "cell_type": "markdown",
   "metadata": {},
   "source": [
    "### Get dummy variables"
   ]
  },
  {
   "cell_type": "code",
   "execution_count": 6,
   "metadata": {
    "collapsed": true
   },
   "outputs": [],
   "source": [
    "df_train_scale_dummy = pd.get_dummies(df_train_scale)\n",
    "df_test_scale_dummy = pd.get_dummies(df_test_scale)"
   ]
  },
  {
   "cell_type": "markdown",
   "metadata": {},
   "source": [
    "## Split dataset"
   ]
  },
  {
   "cell_type": "code",
   "execution_count": 7,
   "metadata": {
    "collapsed": true
   },
   "outputs": [],
   "source": [
    "from sklearn.model_selection import train_test_split\n",
    "from sklearn.metrics import classification_report,confusion_matrix\n",
    "from sklearn.model_selection import GridSearchCV\n",
    "from sklearn import metrics\n",
    "\n",
    "train = df_train_scale_dummy[['number of days', 'access','navigate','page_close', 'video', 'D']]\n",
    "test = df_test_scale_dummy[['number of days', 'access','navigate','page_close', 'video', 'D']]\n",
    "target = df_train_scale_dummy['target']\n",
    "\n",
    "X_train_scale, X_test_scale, y_train_scale, y_test_scale = train_test_split(train, target, \n",
    "                                                                            test_size = 0.30, random_state = 101)"
   ]
  },
  {
   "cell_type": "markdown",
   "metadata": {},
   "source": [
    "### Logistic Regression"
   ]
  },
  {
   "cell_type": "code",
   "execution_count": 8,
   "metadata": {
    "collapsed": false
   },
   "outputs": [
    {
     "name": "stdout",
     "output_type": "stream",
     "text": [
      "Tuning hyperparameter for neg_log_loss\n",
      " \n",
      "Best parameters set found on development set:\n",
      "{'penalty': 'l2', 'C': 0.1}\n",
      "             precision    recall  f1-score   support\n",
      "\n",
      "        0.0       0.75      0.43      0.54      4483\n",
      "        1.0       0.87      0.96      0.91     17215\n",
      "\n",
      "avg / total       0.84      0.85      0.84     21698\n",
      "\n",
      " \n"
     ]
    }
   ],
   "source": [
    "from sklearn.linear_model import LogisticRegression\n",
    "\n",
    "lr = LogisticRegression()\n",
    "\n",
    "lr_tuned_parameter = {'penalty': ['l1', 'l2'], 'C': [0.1, 0.3, 0.5, 1.0]}\n",
    "scores = ['neg_log_loss']\n",
    "\n",
    "for score in scores:\n",
    "    print \"Tuning hyperparameter for %s\" % score\n",
    "    print ' '\n",
    "    \n",
    "    lr_clf = GridSearchCV(lr, lr_tuned_parameter, scoring = 'neg_log_loss')\n",
    "    lr_clf.fit(X_train_scale, y_train_scale)\n",
    "    \n",
    "    print \"Best parameters set found on development set:\"\n",
    "    print lr_clf.best_params_\n",
    "    \n",
    "    lr_y_true, lr_y_pred = y_test_scale, lr_clf.predict(X_test_scale)\n",
    "    \n",
    "    print classification_report(lr_y_true, lr_y_pred)\n",
    "    print ' '\n",
    "    \n",
    "    prediction = lr_clf.predict_proba(test)"
   ]
  },
  {
   "cell_type": "code",
   "execution_count": 9,
   "metadata": {
    "collapsed": true
   },
   "outputs": [],
   "source": [
    "# Output prediction result based on GridSearchCV\n",
    "\n",
    "label_list = np.array(xrange(72326, 120543, 1))\n",
    "result_array = zip(list(label_list), list(prediction[:,1]))\n",
    "\n",
    "df_result_lr = pd.DataFrame(result_array, columns=['enrollment_id', 'dropout_prob'])\n",
    "df_result_lr.to_csv('LR_features.csv', index = False)"
   ]
  },
  {
   "cell_type": "markdown",
   "metadata": {},
   "source": [
    "### Neural Network"
   ]
  },
  {
   "cell_type": "code",
   "execution_count": 93,
   "metadata": {
    "collapsed": false
   },
   "outputs": [
    {
     "name": "stdout",
     "output_type": "stream",
     "text": [
      "Tuning hyperparameter for neg_log_loss\n",
      " \n",
      "Best parameters set found on development set:\n",
      "{'alpha': 0.0001, 'hidden_layer_sizes': (150,)}\n",
      "             precision    recall  f1-score   support\n",
      "\n",
      "        0.0       0.71      0.50      0.59      4483\n",
      "        1.0       0.88      0.95      0.91     17215\n",
      "\n",
      "avg / total       0.84      0.86      0.84     21698\n",
      "\n",
      " \n"
     ]
    }
   ],
   "source": [
    "from sklearn.neural_network import MLPClassifier\n",
    "\n",
    "mlp = MLPClassifier()\n",
    "\n",
    "mlp_tuned_parameter = {'hidden_layer_sizes': [(100,), (150,)], 'alpha': [0.00005, 0.0001, 0.0002]}\n",
    "scores = ['neg_log_loss']\n",
    "\n",
    "for score in scores:\n",
    "    print \"Tuning hyperparameter for %s\" % score\n",
    "    print ' '\n",
    "    \n",
    "    mlp_clf = GridSearchCV(mlp, mlp_tuned_parameter, scoring = 'neg_log_loss')\n",
    "    mlp_clf.fit(X_train_scale, y_train_scale)\n",
    "    \n",
    "    print \"Best parameters set found on development set:\"\n",
    "    print mlp_clf.best_params_\n",
    "    \n",
    "    mlp_y_true, mlp_y_pred = y_test_scale, mlp_clf.predict(X_test_scale)\n",
    "    \n",
    "    print classification_report(mlp_y_true, mlp_y_pred)\n",
    "    print ' '\n",
    "    \n",
    "    prediction_mlp = mlp_clf.predict_proba(test)"
   ]
  },
  {
   "cell_type": "code",
   "execution_count": 94,
   "metadata": {
    "collapsed": true
   },
   "outputs": [],
   "source": [
    "# output result based on GridSearchCV\n",
    "\n",
    "label_list = np.array(xrange(72326, 120543, 1))\n",
    "result_array = zip(list(label_list), list(prediction_mlp[:,1]))\n",
    "\n",
    "df_result_mlp_para = pd.DataFrame(result_array, columns=['enrollment_id', 'dropout_prob'])\n",
    "df_result_mlp_para.to_csv('MLP_scale_6features.csv', index = False)"
   ]
  },
  {
   "cell_type": "markdown",
   "metadata": {},
   "source": [
    "### Random Forest Classifier"
   ]
  },
  {
   "cell_type": "code",
   "execution_count": null,
   "metadata": {
    "collapsed": true
   },
   "outputs": [],
   "source": [
    "from sklearn.ensemble import RandomForestClassifier\n",
    "\n",
    "rfc = RandomForestClassifier()\n",
    "tuned_parameter = {'n_estimators': [50,100,150]}\n",
    "score = 'precision'\n",
    "\n",
    "print \"Tuning hyperparameter for neg_log_loss\"\n",
    "\n",
    "clf = GridSearchCV(rfc, tuned_parameter, cv=5, scoring = 'neg_log_loss')\n",
    "clf.fit(X_train_scale, y_train_scale)\n",
    "\n",
    "print \"Best parameters set found on development set:\"\n",
    "print clf.best_params_\n",
    "\n",
    "y_true, y_pred = y_test, clf.predict(X_test_scale)\n",
    "print classification_report(y_true, y_pred)"
   ]
  },
  {
   "cell_type": "code",
   "execution_count": null,
   "metadata": {
    "collapsed": true
   },
   "outputs": [],
   "source": [
    "# rebuild the model with best parameters\n",
    "\n",
    "rfc_final = RandomForestClassifier(n_estimators = 150 )\n",
    "rfc_final.fit(X_train_scale, y_train_scale)\n",
    "\n",
    "prediction_rfc_proba = rfc_final.predict_proba(test)"
   ]
  },
  {
   "cell_type": "code",
   "execution_count": null,
   "metadata": {
    "collapsed": true
   },
   "outputs": [],
   "source": [
    "# output the probability result\n",
    "\n",
    "label_list = np.array(xrange(72326, 120543, 1))\n",
    "result_array = zip(list(label_list), list(prediction_rfc_proba[:,1]))\n",
    "df_result = pd.DataFrame(result_array, columns=['enrollment_id', 'dropout_prob'])\n",
    "df_result.to_csv('All_features_proba.csv', index = False)"
   ]
  },
  {
   "cell_type": "markdown",
   "metadata": {},
   "source": [
    "### Random Forest Regression"
   ]
  },
  {
   "cell_type": "code",
   "execution_count": null,
   "metadata": {
    "collapsed": true
   },
   "outputs": [],
   "source": [
    "from sklearn.ensemble import RandomForestRegressor\n",
    "\n",
    "rfr = RandomForestRegressor(n_estimators = 150)\n",
    "rfr.fit(X_train_scale, y_train_scale)\n",
    "\n",
    "rfr_pred = rfr.predict(test)\n",
    "\n",
    "label_list = np.array(xrange(72326, 120543, 1))\n",
    "rfr_result = zip(list(label_list), list(rfr_pred))\n",
    "df_rfr_result = pd.DataFrame(rfr_result, columns=['enrollment_id', 'dropout_prob'])\n",
    "df_rfr_result.to_csv('rfr_selected_feature.csv', index = False)"
   ]
  }
 ],
 "metadata": {
  "kernelspec": {
   "display_name": "Python 2",
   "language": "python",
   "name": "python2"
  },
  "language_info": {
   "codemirror_mode": {
    "name": "ipython",
    "version": 2
   },
   "file_extension": ".py",
   "mimetype": "text/x-python",
   "name": "python",
   "nbconvert_exporter": "python",
   "pygments_lexer": "ipython2",
   "version": "2.7.13"
  }
 },
 "nbformat": 4,
 "nbformat_minor": 2
}
